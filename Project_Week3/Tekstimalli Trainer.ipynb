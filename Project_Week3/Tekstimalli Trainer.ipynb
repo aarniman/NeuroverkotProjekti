{
 "cells": [
  {
   "cell_type": "code",
   "execution_count": 18,
   "id": "6b1b524b",
   "metadata": {},
   "outputs": [
    {
     "name": "stdout",
     "output_type": "stream",
     "text": [
      "Keras version: 3.9.2\n",
      "Keras backend: tensorflow\n",
      "Tensorflow version: 2.19.0\n",
      "Num GPUs Available:  1\n"
     ]
    }
   ],
   "source": [
    "# Cell 1: Setup and imports\n",
    "import os\n",
    "os.environ['KERAS_BACKEND'] = 'tensorflow'  # You can change to 'jax' or 'torch' if preferred\n",
    "import tensorflow as tf\n",
    "import numpy as np\n",
    "import keras\n",
    "import sentencepiece as spm\n",
    "\n",
    "print(f\"Keras version: {keras.__version__}\")\n",
    "print(f\"Keras backend: {keras.config.backend()}\")\n",
    "print(f\"Tensorflow version: {tf.__version__}\")\n",
    "print(\"Num GPUs Available: \", len(tf.config.list_physical_devices('GPU')))"
   ]
  },
  {
   "cell_type": "code",
   "execution_count": 19,
   "id": "a2833a80",
   "metadata": {},
   "outputs": [
    {
     "name": "stdout",
     "output_type": "stream",
     "text": [
      "Physical devices cannot be modified after being initialized\n"
     ]
    }
   ],
   "source": [
    "gpus = tf.config.list_physical_devices('GPU')\n",
    "if gpus:\n",
    "    try:\n",
    "        for gpu in gpus:\n",
    "            tf.config.experimental.set_memory_growth(gpu, True)\n",
    "        logical_gpus = tf.config.list_logical_devices('GPU')\n",
    "        print(len(gpus), \"Physical GPUs,\", len(logical_gpus), \"Logical GPUs\")\n",
    "    except RuntimeError as e:\n",
    "        print(e)"
   ]
  },
  {
   "cell_type": "code",
   "execution_count": 19,
   "id": "a2833a80",
   "metadata": {},
   "outputs": [
    {
     "name": "stdout",
     "output_type": "stream",
     "text": [
      "Physical devices cannot be modified after being initialized\n"
     ]
    }
   ],
   "source": [
    "gpus = tf.config.list_physical_devices('GPU')\n",
    "if gpus:\n",
    "    try:\n",
    "        for gpu in gpus:\n",
    "            tf.config.experimental.set_memory_growth(gpu, True)\n",
    "        logical_gpus = tf.config.list_logical_devices('GPU')\n",
    "        print(len(gpus), \"Physical GPUs,\", len(logical_gpus), \"Logical GPUs\")\n",
    "    except RuntimeError as e:\n",
    "        print(e)"
   ]
  },
  {
   "cell_type": "code",
   "execution_count": 24,
   "id": "f91b3055",
   "metadata": {},
   "outputs": [
    {
     "name": "stdout",
     "output_type": "stream",
     "text": [
      "Text length: 2579726 characters\n",
      "First 100 characters: Three Rings for the Elven-kings under the sky,\n",
      "               Seven for the Dwarf-lords in their hal\n"
     ]
    }
   ],
   "outputs": [
    {
     "ename": "UnicodeDecodeError",
     "evalue": "'utf-8' codec can't decode byte 0xf3 in position 2836: invalid continuation byte",
     "output_type": "error",
     "traceback": [
      "\u001b[31m---------------------------------------------------------------------------\u001b[39m",
      "\u001b[31mUnicodeDecodeError\u001b[39m                        Traceback (most recent call last)",
      "\u001b[36mCell\u001b[39m\u001b[36m \u001b[39m\u001b[32mIn[21]\u001b[39m\u001b[32m, line 4\u001b[39m\n\u001b[32m      1\u001b[39m \u001b[38;5;66;03m# Cell 2: Load and prepare text data\u001b[39;00m\n\u001b[32m      2\u001b[39m \u001b[38;5;66;03m# Load the Chosen text\u001b[39;00m\n\u001b[32m      3\u001b[39m \u001b[38;5;28;01mwith\u001b[39;00m \u001b[38;5;28mopen\u001b[39m(\u001b[33m'\u001b[39m\u001b[33m./LotR_trilogy_puhdas.txt\u001b[39m\u001b[33m'\u001b[39m, \u001b[33m'\u001b[39m\u001b[33mr\u001b[39m\u001b[33m'\u001b[39m, encoding=\u001b[33m'\u001b[39m\u001b[33mutf-8-sig\u001b[39m\u001b[33m'\u001b[39m) \u001b[38;5;28;01mas\u001b[39;00m file:\n\u001b[32m----> \u001b[39m\u001b[32m4\u001b[39m     text = file.read()\u001b[38;5;66;03m#.lower()\u001b[39;00m\n\u001b[32m      6\u001b[39m \u001b[38;5;28mprint\u001b[39m(\u001b[33mf\u001b[39m\u001b[33m\"\u001b[39m\u001b[33mText length: \u001b[39m\u001b[38;5;132;01m{\u001b[39;00m\u001b[38;5;28mlen\u001b[39m(text)\u001b[38;5;132;01m}\u001b[39;00m\u001b[33m characters\u001b[39m\u001b[33m\"\u001b[39m)\n\u001b[32m      7\u001b[39m \u001b[38;5;28mprint\u001b[39m(\u001b[33mf\u001b[39m\u001b[33m\"\u001b[39m\u001b[33mFirst 100 characters: \u001b[39m\u001b[38;5;132;01m{\u001b[39;00mtext[:\u001b[32m100\u001b[39m]\u001b[38;5;132;01m}\u001b[39;00m\u001b[33m\"\u001b[39m)\n",
      "\u001b[36mFile \u001b[39m\u001b[32m<frozen codecs>:322\u001b[39m, in \u001b[36mdecode\u001b[39m\u001b[34m(self, input, final)\u001b[39m\n",
      "\u001b[36mFile \u001b[39m\u001b[32m~/anaconda3/envs/keras/lib/python3.12/encodings/utf_8_sig.py:69\u001b[39m, in \u001b[36mIncrementalDecoder._buffer_decode\u001b[39m\u001b[34m(self, input, errors, final)\u001b[39m\n\u001b[32m     66\u001b[39m             (output, consumed) = \\\n\u001b[32m     67\u001b[39m                codecs.utf_8_decode(\u001b[38;5;28minput\u001b[39m[\u001b[32m3\u001b[39m:], errors, final)\n\u001b[32m     68\u001b[39m             \u001b[38;5;28;01mreturn\u001b[39;00m (output, consumed+\u001b[32m3\u001b[39m)\n\u001b[32m---> \u001b[39m\u001b[32m69\u001b[39m \u001b[38;5;28;01mreturn\u001b[39;00m codecs.utf_8_decode(\u001b[38;5;28minput\u001b[39m, errors, final)\n",
      "\u001b[31mUnicodeDecodeError\u001b[39m: 'utf-8' codec can't decode byte 0xf3 in position 2836: invalid continuation byte"
     ]
    }
   ],
   "source": [
    "# Cell 2: Load and prepare text data\n",
    "# Load the Chosen text\n",
    "with open('./LotR_trilogy_puhdas.txt', 'r', encoding='ansi') as file:\n",
    "    text = file.read()#.lower()\n",
    "\n",
    "print(f\"Text length: {len(text)} characters\")\n",
    "print(f\"First 100 characters: {text[:100]}\")"
   ]
  },
  {
   "cell_type": "code",
   "execution_count": 26,
   "id": "968d0600",
   "metadata": {},
   "outputs": [
    {
     "name": "stdout",
     "output_type": "stream",
     "text": [
      "Tokenized example: ['▁Stool']\n",
      "Vocabulary size: 25000\n"
     ]
    }
   ],
   "source": [
    "# Cell 3: Train SentencePiece model\n",
    "# Save text to a temporary file for SentencePiece training\n",
    "temp_file = 'LotR_trilogy_temp.txt'\n",
    "with open(temp_file, 'w', encoding='utf-8') as f:\n",
    "    f.write(text)\n",
    "\n",
    "# Train SentencePiece model\n",
    "vocab_size = 25000  # You can adjust this based on your needs\n",
    "model_prefix = 'LotR_trilogy_sp'\n",
    "\n",
    "spm.SentencePieceTrainer.train(\n",
    "    input=temp_file,\n",
    "    model_prefix=model_prefix,\n",
    "    vocab_size=vocab_size,\n",
    "    character_coverage=1.0,  # Important for Finnish\n",
    "    model_type='bpe',\n",
    "    user_defined_symbols=['<PAD>', '<UNK>']\n",
    ")\n",
    "\n",
    "# Load the trained tokenizer\n",
    "sp = spm.SentencePieceProcessor()\n",
    "sp.load(f\"{model_prefix}.model\")\n",
    "\n",
    "# Test tokenization\n",
    "test_text = \"Frodo Baggins is a hobbit of the Shire.\"\n",
    "tokens = sp.encode_as_pieces(test_text)\n",
    "print(f\"Tokenized example: {tokens}\")\n",
    "print(f\"Vocabulary size: {sp.get_piece_size()}\")"
   ]
  },
  {
   "cell_type": "code",
   "execution_count": 17,
   "id": "0c8ae8b9",
   "metadata": {},
   "outputs": [
    {
     "name": "stdout",
     "output_type": "stream",
     "text": [
      "Total tokens: 576135\n",
      "Number of sequences: 576071\n",
      "Input shape: (576071, 64)\n",
      "Target shape: (576071, 64)\n"
     ]
    }
   ],
   "outputs": [
    {
     "name": "stdout",
     "output_type": "stream",
     "text": [
      "Total tokens: 29706\n",
      "Number of sequences: 29642\n",
      "Input shape: (29642, 64)\n",
      "Target shape: (29642, 64)\n"
     ]
    }
   ],
   "source": [
    "# Cell 4: Prepare training data\n",
    "# Tokenize the text\n",
    "seq_length = 64\n",
    "pieces = sp.encode_as_ids(text)\n",
    "print(f\"Total tokens: {len(pieces)}\")\n",
    "\n",
    "# Create sequences\n",
    "sequences = []\n",
    "for i in range(0, len(pieces) - seq_length):\n",
    "    # Input: first seq_length tokens, Target: next seq_length tokens (shifted by 1)\n",
    "    sequences.append(pieces[i:i+seq_length+1])\n",
    "\n",
    "# Convert to NumPy arrays\n",
    "sequences = np.array(sequences)\n",
    "inputs = sequences[:, :-1]  # All tokens except the last one\n",
    "targets = sequences[:, 1:]  # All tokens except the first one\n",
    "\n",
    "print(f\"Number of sequences: {len(sequences)}\")\n",
    "print(f\"Input shape: {inputs.shape}\")\n",
    "print(f\"Target shape: {targets.shape}\")\n",
    "\n",
    "# Split into training and validation sets\n",
    "indices = np.arange(len(sequences))\n",
    "np.random.shuffle(indices)\n",
    "\n",
    "train_size = int(0.8 * len(sequences))\n",
    "train_indices = indices[:train_size]\n",
    "val_indices = indices[train_size:]\n",
    "\n",
    "train_inputs, train_targets = inputs[train_indices], targets[train_indices]\n",
    "val_inputs, val_targets = inputs[val_indices], targets[val_indices]"
   ]
  },
  {
   "cell_type": "code",
   "execution_count": 9,
   "id": "26427cc4",
   "metadata": {},
   "outputs": [
    {
     "name": "stderr",
     "output_type": "stream",
     "text": [
      "I0000 00:00:1745151832.116571    8478 gpu_device.cc:2019] Created device /job:localhost/replica:0/task:0/device:GPU:0 with 6063 MB memory:  -> device: 0, name: NVIDIA GeForce RTX 2080, pci bus id: 0000:01:00.0, compute capability: 7.5\n"
     ]
    },
    {
     "data": {
      "text/html": [
       "<pre style=\"white-space:pre;overflow-x:auto;line-height:normal;font-family:Menlo,'DejaVu Sans Mono',consolas,'Courier New',monospace\"><span style=\"font-weight: bold\">Model: \"functional_3\"</span>\n",
       "</pre>\n"
      ],
      "text/plain": [
       "\u001b[1mModel: \"functional_3\"\u001b[0m\n"
      ]
     },
     "metadata": {},
     "output_type": "display_data"
    },
    {
     "data": {
      "text/html": [
       "<pre style=\"white-space:pre;overflow-x:auto;line-height:normal;font-family:Menlo,'DejaVu Sans Mono',consolas,'Courier New',monospace\">┏━━━━━━━━━━━━━━━━━━━━━┳━━━━━━━━━━━━━━━━━━━┳━━━━━━━━━━━━┳━━━━━━━━━━━━━━━━━━━┓\n",
       "┃<span style=\"font-weight: bold\"> Layer (type)        </span>┃<span style=\"font-weight: bold\"> Output Shape      </span>┃<span style=\"font-weight: bold\">    Param # </span>┃<span style=\"font-weight: bold\"> Connected to      </span>┃\n",
       "┡━━━━━━━━━━━━━━━━━━━━━╇━━━━━━━━━━━━━━━━━━━╇━━━━━━━━━━━━╇━━━━━━━━━━━━━━━━━━━┩\n",
       "│ input_layer         │ (<span style=\"color: #00d7ff; text-decoration-color: #00d7ff\">None</span>, <span style=\"color: #00af00; text-decoration-color: #00af00\">64</span>)        │          <span style=\"color: #00af00; text-decoration-color: #00af00\">0</span> │ -                 │\n",
       "│ (<span style=\"color: #0087ff; text-decoration-color: #0087ff\">InputLayer</span>)        │                   │            │                   │\n",
       "├─────────────────────┼───────────────────┼────────────┼───────────────────┤\n",
       "│ embedding           │ (<span style=\"color: #00d7ff; text-decoration-color: #00d7ff\">None</span>, <span style=\"color: #00af00; text-decoration-color: #00af00\">64</span>, <span style=\"color: #00af00; text-decoration-color: #00af00\">256</span>)   │ <span style=\"color: #00af00; text-decoration-color: #00af00\">10,240,000</span> │ input_layer[<span style=\"color: #00af00; text-decoration-color: #00af00\">0</span>][<span style=\"color: #00af00; text-decoration-color: #00af00\">0</span>] │\n",
       "│ (<span style=\"color: #0087ff; text-decoration-color: #0087ff\">Embedding</span>)         │                   │            │                   │\n",
       "├─────────────────────┼───────────────────┼────────────┼───────────────────┤\n",
       "│ add (<span style=\"color: #0087ff; text-decoration-color: #0087ff\">Add</span>)           │ (<span style=\"color: #00d7ff; text-decoration-color: #00d7ff\">None</span>, <span style=\"color: #00af00; text-decoration-color: #00af00\">64</span>, <span style=\"color: #00af00; text-decoration-color: #00af00\">256</span>)   │          <span style=\"color: #00af00; text-decoration-color: #00af00\">0</span> │ embedding[<span style=\"color: #00af00; text-decoration-color: #00af00\">0</span>][<span style=\"color: #00af00; text-decoration-color: #00af00\">0</span>]   │\n",
       "├─────────────────────┼───────────────────┼────────────┼───────────────────┤\n",
       "│ cast (<span style=\"color: #0087ff; text-decoration-color: #0087ff\">Cast</span>)         │ (<span style=\"color: #00d7ff; text-decoration-color: #00d7ff\">None</span>, <span style=\"color: #00af00; text-decoration-color: #00af00\">64</span>, <span style=\"color: #00af00; text-decoration-color: #00af00\">256</span>)   │          <span style=\"color: #00af00; text-decoration-color: #00af00\">0</span> │ add[<span style=\"color: #00af00; text-decoration-color: #00af00\">0</span>][<span style=\"color: #00af00; text-decoration-color: #00af00\">0</span>]         │\n",
       "├─────────────────────┼───────────────────┼────────────┼───────────────────┤\n",
       "│ cast_1 (<span style=\"color: #0087ff; text-decoration-color: #0087ff\">Cast</span>)       │ (<span style=\"color: #00d7ff; text-decoration-color: #00d7ff\">None</span>, <span style=\"color: #00af00; text-decoration-color: #00af00\">64</span>, <span style=\"color: #00af00; text-decoration-color: #00af00\">256</span>)   │          <span style=\"color: #00af00; text-decoration-color: #00af00\">0</span> │ add[<span style=\"color: #00af00; text-decoration-color: #00af00\">0</span>][<span style=\"color: #00af00; text-decoration-color: #00af00\">0</span>]         │\n",
       "├─────────────────────┼───────────────────┼────────────┼───────────────────┤\n",
       "│ multi_head_attenti… │ (<span style=\"color: #00d7ff; text-decoration-color: #00d7ff\">None</span>, <span style=\"color: #00af00; text-decoration-color: #00af00\">64</span>, <span style=\"color: #00af00; text-decoration-color: #00af00\">256</span>)   │    <span style=\"color: #00af00; text-decoration-color: #00af00\">263,168</span> │ cast[<span style=\"color: #00af00; text-decoration-color: #00af00\">0</span>][<span style=\"color: #00af00; text-decoration-color: #00af00\">0</span>],       │\n",
       "│ (<span style=\"color: #0087ff; text-decoration-color: #0087ff\">MultiHeadAttentio…</span> │                   │            │ cast_1[<span style=\"color: #00af00; text-decoration-color: #00af00\">0</span>][<span style=\"color: #00af00; text-decoration-color: #00af00\">0</span>]      │\n",
       "├─────────────────────┼───────────────────┼────────────┼───────────────────┤\n",
       "│ add_1 (<span style=\"color: #0087ff; text-decoration-color: #0087ff\">Add</span>)         │ (<span style=\"color: #00d7ff; text-decoration-color: #00d7ff\">None</span>, <span style=\"color: #00af00; text-decoration-color: #00af00\">64</span>, <span style=\"color: #00af00; text-decoration-color: #00af00\">256</span>)   │          <span style=\"color: #00af00; text-decoration-color: #00af00\">0</span> │ add[<span style=\"color: #00af00; text-decoration-color: #00af00\">0</span>][<span style=\"color: #00af00; text-decoration-color: #00af00\">0</span>],        │\n",
       "│                     │                   │            │ multi_head_atten… │\n",
       "├─────────────────────┼───────────────────┼────────────┼───────────────────┤\n",
       "│ layer_normalization │ (<span style=\"color: #00d7ff; text-decoration-color: #00d7ff\">None</span>, <span style=\"color: #00af00; text-decoration-color: #00af00\">64</span>, <span style=\"color: #00af00; text-decoration-color: #00af00\">256</span>)   │        <span style=\"color: #00af00; text-decoration-color: #00af00\">512</span> │ add_1[<span style=\"color: #00af00; text-decoration-color: #00af00\">0</span>][<span style=\"color: #00af00; text-decoration-color: #00af00\">0</span>]       │\n",
       "│ (<span style=\"color: #0087ff; text-decoration-color: #0087ff\">LayerNormalizatio…</span> │                   │            │                   │\n",
       "├─────────────────────┼───────────────────┼────────────┼───────────────────┤\n",
       "│ sequential          │ (<span style=\"color: #00d7ff; text-decoration-color: #00d7ff\">None</span>, <span style=\"color: #00af00; text-decoration-color: #00af00\">64</span>, <span style=\"color: #00af00; text-decoration-color: #00af00\">256</span>)   │    <span style=\"color: #00af00; text-decoration-color: #00af00\">262,912</span> │ layer_normalizat… │\n",
       "│ (<span style=\"color: #0087ff; text-decoration-color: #0087ff\">Sequential</span>)        │                   │            │                   │\n",
       "├─────────────────────┼───────────────────┼────────────┼───────────────────┤\n",
       "│ add_2 (<span style=\"color: #0087ff; text-decoration-color: #0087ff\">Add</span>)         │ (<span style=\"color: #00d7ff; text-decoration-color: #00d7ff\">None</span>, <span style=\"color: #00af00; text-decoration-color: #00af00\">64</span>, <span style=\"color: #00af00; text-decoration-color: #00af00\">256</span>)   │          <span style=\"color: #00af00; text-decoration-color: #00af00\">0</span> │ layer_normalizat… │\n",
       "│                     │                   │            │ sequential[<span style=\"color: #00af00; text-decoration-color: #00af00\">0</span>][<span style=\"color: #00af00; text-decoration-color: #00af00\">0</span>]  │\n",
       "├─────────────────────┼───────────────────┼────────────┼───────────────────┤\n",
       "│ layer_normalizatio… │ (<span style=\"color: #00d7ff; text-decoration-color: #00d7ff\">None</span>, <span style=\"color: #00af00; text-decoration-color: #00af00\">64</span>, <span style=\"color: #00af00; text-decoration-color: #00af00\">256</span>)   │        <span style=\"color: #00af00; text-decoration-color: #00af00\">512</span> │ add_2[<span style=\"color: #00af00; text-decoration-color: #00af00\">0</span>][<span style=\"color: #00af00; text-decoration-color: #00af00\">0</span>]       │\n",
       "│ (<span style=\"color: #0087ff; text-decoration-color: #0087ff\">LayerNormalizatio…</span> │                   │            │                   │\n",
       "├─────────────────────┼───────────────────┼────────────┼───────────────────┤\n",
       "│ multi_head_attenti… │ (<span style=\"color: #00d7ff; text-decoration-color: #00d7ff\">None</span>, <span style=\"color: #00af00; text-decoration-color: #00af00\">64</span>, <span style=\"color: #00af00; text-decoration-color: #00af00\">256</span>)   │    <span style=\"color: #00af00; text-decoration-color: #00af00\">263,168</span> │ layer_normalizat… │\n",
       "│ (<span style=\"color: #0087ff; text-decoration-color: #0087ff\">MultiHeadAttentio…</span> │                   │            │ layer_normalizat… │\n",
       "├─────────────────────┼───────────────────┼────────────┼───────────────────┤\n",
       "│ add_3 (<span style=\"color: #0087ff; text-decoration-color: #0087ff\">Add</span>)         │ (<span style=\"color: #00d7ff; text-decoration-color: #00d7ff\">None</span>, <span style=\"color: #00af00; text-decoration-color: #00af00\">64</span>, <span style=\"color: #00af00; text-decoration-color: #00af00\">256</span>)   │          <span style=\"color: #00af00; text-decoration-color: #00af00\">0</span> │ layer_normalizat… │\n",
       "│                     │                   │            │ multi_head_atten… │\n",
       "├─────────────────────┼───────────────────┼────────────┼───────────────────┤\n",
       "│ layer_normalizatio… │ (<span style=\"color: #00d7ff; text-decoration-color: #00d7ff\">None</span>, <span style=\"color: #00af00; text-decoration-color: #00af00\">64</span>, <span style=\"color: #00af00; text-decoration-color: #00af00\">256</span>)   │        <span style=\"color: #00af00; text-decoration-color: #00af00\">512</span> │ add_3[<span style=\"color: #00af00; text-decoration-color: #00af00\">0</span>][<span style=\"color: #00af00; text-decoration-color: #00af00\">0</span>]       │\n",
       "│ (<span style=\"color: #0087ff; text-decoration-color: #0087ff\">LayerNormalizatio…</span> │                   │            │                   │\n",
       "├─────────────────────┼───────────────────┼────────────┼───────────────────┤\n",
       "│ sequential_1        │ (<span style=\"color: #00d7ff; text-decoration-color: #00d7ff\">None</span>, <span style=\"color: #00af00; text-decoration-color: #00af00\">64</span>, <span style=\"color: #00af00; text-decoration-color: #00af00\">256</span>)   │    <span style=\"color: #00af00; text-decoration-color: #00af00\">262,912</span> │ layer_normalizat… │\n",
       "│ (<span style=\"color: #0087ff; text-decoration-color: #0087ff\">Sequential</span>)        │                   │            │                   │\n",
       "├─────────────────────┼───────────────────┼────────────┼───────────────────┤\n",
       "│ add_4 (<span style=\"color: #0087ff; text-decoration-color: #0087ff\">Add</span>)         │ (<span style=\"color: #00d7ff; text-decoration-color: #00d7ff\">None</span>, <span style=\"color: #00af00; text-decoration-color: #00af00\">64</span>, <span style=\"color: #00af00; text-decoration-color: #00af00\">256</span>)   │          <span style=\"color: #00af00; text-decoration-color: #00af00\">0</span> │ layer_normalizat… │\n",
       "│                     │                   │            │ sequential_1[<span style=\"color: #00af00; text-decoration-color: #00af00\">0</span>][<span style=\"color: #00af00; text-decoration-color: #00af00\">…</span> │\n",
       "├─────────────────────┼───────────────────┼────────────┼───────────────────┤\n",
       "│ layer_normalizatio… │ (<span style=\"color: #00d7ff; text-decoration-color: #00d7ff\">None</span>, <span style=\"color: #00af00; text-decoration-color: #00af00\">64</span>, <span style=\"color: #00af00; text-decoration-color: #00af00\">256</span>)   │        <span style=\"color: #00af00; text-decoration-color: #00af00\">512</span> │ add_4[<span style=\"color: #00af00; text-decoration-color: #00af00\">0</span>][<span style=\"color: #00af00; text-decoration-color: #00af00\">0</span>]       │\n",
       "│ (<span style=\"color: #0087ff; text-decoration-color: #0087ff\">LayerNormalizatio…</span> │                   │            │                   │\n",
       "├─────────────────────┼───────────────────┼────────────┼───────────────────┤\n",
       "│ multi_head_attenti… │ (<span style=\"color: #00d7ff; text-decoration-color: #00d7ff\">None</span>, <span style=\"color: #00af00; text-decoration-color: #00af00\">64</span>, <span style=\"color: #00af00; text-decoration-color: #00af00\">256</span>)   │    <span style=\"color: #00af00; text-decoration-color: #00af00\">263,168</span> │ layer_normalizat… │\n",
       "│ (<span style=\"color: #0087ff; text-decoration-color: #0087ff\">MultiHeadAttentio…</span> │                   │            │ layer_normalizat… │\n",
       "├─────────────────────┼───────────────────┼────────────┼───────────────────┤\n",
       "│ add_5 (<span style=\"color: #0087ff; text-decoration-color: #0087ff\">Add</span>)         │ (<span style=\"color: #00d7ff; text-decoration-color: #00d7ff\">None</span>, <span style=\"color: #00af00; text-decoration-color: #00af00\">64</span>, <span style=\"color: #00af00; text-decoration-color: #00af00\">256</span>)   │          <span style=\"color: #00af00; text-decoration-color: #00af00\">0</span> │ layer_normalizat… │\n",
       "│                     │                   │            │ multi_head_atten… │\n",
       "├─────────────────────┼───────────────────┼────────────┼───────────────────┤\n",
       "│ layer_normalizatio… │ (<span style=\"color: #00d7ff; text-decoration-color: #00d7ff\">None</span>, <span style=\"color: #00af00; text-decoration-color: #00af00\">64</span>, <span style=\"color: #00af00; text-decoration-color: #00af00\">256</span>)   │        <span style=\"color: #00af00; text-decoration-color: #00af00\">512</span> │ add_5[<span style=\"color: #00af00; text-decoration-color: #00af00\">0</span>][<span style=\"color: #00af00; text-decoration-color: #00af00\">0</span>]       │\n",
       "│ (<span style=\"color: #0087ff; text-decoration-color: #0087ff\">LayerNormalizatio…</span> │                   │            │                   │\n",
       "├─────────────────────┼───────────────────┼────────────┼───────────────────┤\n",
       "│ sequential_2        │ (<span style=\"color: #00d7ff; text-decoration-color: #00d7ff\">None</span>, <span style=\"color: #00af00; text-decoration-color: #00af00\">64</span>, <span style=\"color: #00af00; text-decoration-color: #00af00\">256</span>)   │    <span style=\"color: #00af00; text-decoration-color: #00af00\">262,912</span> │ layer_normalizat… │\n",
       "│ (<span style=\"color: #0087ff; text-decoration-color: #0087ff\">Sequential</span>)        │                   │            │                   │\n",
       "├─────────────────────┼───────────────────┼────────────┼───────────────────┤\n",
       "│ add_6 (<span style=\"color: #0087ff; text-decoration-color: #0087ff\">Add</span>)         │ (<span style=\"color: #00d7ff; text-decoration-color: #00d7ff\">None</span>, <span style=\"color: #00af00; text-decoration-color: #00af00\">64</span>, <span style=\"color: #00af00; text-decoration-color: #00af00\">256</span>)   │          <span style=\"color: #00af00; text-decoration-color: #00af00\">0</span> │ layer_normalizat… │\n",
       "│                     │                   │            │ sequential_2[<span style=\"color: #00af00; text-decoration-color: #00af00\">0</span>][<span style=\"color: #00af00; text-decoration-color: #00af00\">…</span> │\n",
       "├─────────────────────┼───────────────────┼────────────┼───────────────────┤\n",
       "│ layer_normalizatio… │ (<span style=\"color: #00d7ff; text-decoration-color: #00d7ff\">None</span>, <span style=\"color: #00af00; text-decoration-color: #00af00\">64</span>, <span style=\"color: #00af00; text-decoration-color: #00af00\">256</span>)   │        <span style=\"color: #00af00; text-decoration-color: #00af00\">512</span> │ add_6[<span style=\"color: #00af00; text-decoration-color: #00af00\">0</span>][<span style=\"color: #00af00; text-decoration-color: #00af00\">0</span>]       │\n",
       "│ (<span style=\"color: #0087ff; text-decoration-color: #0087ff\">LayerNormalizatio…</span> │                   │            │                   │\n",
       "├─────────────────────┼───────────────────┼────────────┼───────────────────┤\n",
       "│ dense_6 (<span style=\"color: #0087ff; text-decoration-color: #0087ff\">Dense</span>)     │ (<span style=\"color: #00d7ff; text-decoration-color: #00d7ff\">None</span>, <span style=\"color: #00af00; text-decoration-color: #00af00\">64</span>, <span style=\"color: #00af00; text-decoration-color: #00af00\">40000</span>) │ <span style=\"color: #00af00; text-decoration-color: #00af00\">10,280,000</span> │ layer_normalizat… │\n",
       "└─────────────────────┴───────────────────┴────────────┴───────────────────┘\n",
       "</pre>\n"
      ],
      "text/plain": [
       "┏━━━━━━━━━━━━━━━━━━━━━┳━━━━━━━━━━━━━━━━━━━┳━━━━━━━━━━━━┳━━━━━━━━━━━━━━━━━━━┓\n",
       "┃\u001b[1m \u001b[0m\u001b[1mLayer (type)       \u001b[0m\u001b[1m \u001b[0m┃\u001b[1m \u001b[0m\u001b[1mOutput Shape     \u001b[0m\u001b[1m \u001b[0m┃\u001b[1m \u001b[0m\u001b[1m   Param #\u001b[0m\u001b[1m \u001b[0m┃\u001b[1m \u001b[0m\u001b[1mConnected to     \u001b[0m\u001b[1m \u001b[0m┃\n",
       "┡━━━━━━━━━━━━━━━━━━━━━╇━━━━━━━━━━━━━━━━━━━╇━━━━━━━━━━━━╇━━━━━━━━━━━━━━━━━━━┩\n",
       "│ input_layer         │ (\u001b[38;5;45mNone\u001b[0m, \u001b[38;5;34m64\u001b[0m)        │          \u001b[38;5;34m0\u001b[0m │ -                 │\n",
       "│ (\u001b[38;5;33mInputLayer\u001b[0m)        │                   │            │                   │\n",
       "├─────────────────────┼───────────────────┼────────────┼───────────────────┤\n",
       "│ embedding           │ (\u001b[38;5;45mNone\u001b[0m, \u001b[38;5;34m64\u001b[0m, \u001b[38;5;34m256\u001b[0m)   │ \u001b[38;5;34m10,240,000\u001b[0m │ input_layer[\u001b[38;5;34m0\u001b[0m][\u001b[38;5;34m0\u001b[0m] │\n",
       "│ (\u001b[38;5;33mEmbedding\u001b[0m)         │                   │            │                   │\n",
       "├─────────────────────┼───────────────────┼────────────┼───────────────────┤\n",
       "│ add (\u001b[38;5;33mAdd\u001b[0m)           │ (\u001b[38;5;45mNone\u001b[0m, \u001b[38;5;34m64\u001b[0m, \u001b[38;5;34m256\u001b[0m)   │          \u001b[38;5;34m0\u001b[0m │ embedding[\u001b[38;5;34m0\u001b[0m][\u001b[38;5;34m0\u001b[0m]   │\n",
       "├─────────────────────┼───────────────────┼────────────┼───────────────────┤\n",
       "│ cast (\u001b[38;5;33mCast\u001b[0m)         │ (\u001b[38;5;45mNone\u001b[0m, \u001b[38;5;34m64\u001b[0m, \u001b[38;5;34m256\u001b[0m)   │          \u001b[38;5;34m0\u001b[0m │ add[\u001b[38;5;34m0\u001b[0m][\u001b[38;5;34m0\u001b[0m]         │\n",
       "├─────────────────────┼───────────────────┼────────────┼───────────────────┤\n",
       "│ cast_1 (\u001b[38;5;33mCast\u001b[0m)       │ (\u001b[38;5;45mNone\u001b[0m, \u001b[38;5;34m64\u001b[0m, \u001b[38;5;34m256\u001b[0m)   │          \u001b[38;5;34m0\u001b[0m │ add[\u001b[38;5;34m0\u001b[0m][\u001b[38;5;34m0\u001b[0m]         │\n",
       "├─────────────────────┼───────────────────┼────────────┼───────────────────┤\n",
       "│ multi_head_attenti… │ (\u001b[38;5;45mNone\u001b[0m, \u001b[38;5;34m64\u001b[0m, \u001b[38;5;34m256\u001b[0m)   │    \u001b[38;5;34m263,168\u001b[0m │ cast[\u001b[38;5;34m0\u001b[0m][\u001b[38;5;34m0\u001b[0m],       │\n",
       "│ (\u001b[38;5;33mMultiHeadAttentio…\u001b[0m │                   │            │ cast_1[\u001b[38;5;34m0\u001b[0m][\u001b[38;5;34m0\u001b[0m]      │\n",
       "├─────────────────────┼───────────────────┼────────────┼───────────────────┤\n",
       "│ add_1 (\u001b[38;5;33mAdd\u001b[0m)         │ (\u001b[38;5;45mNone\u001b[0m, \u001b[38;5;34m64\u001b[0m, \u001b[38;5;34m256\u001b[0m)   │          \u001b[38;5;34m0\u001b[0m │ add[\u001b[38;5;34m0\u001b[0m][\u001b[38;5;34m0\u001b[0m],        │\n",
       "│                     │                   │            │ multi_head_atten… │\n",
       "├─────────────────────┼───────────────────┼────────────┼───────────────────┤\n",
       "│ layer_normalization │ (\u001b[38;5;45mNone\u001b[0m, \u001b[38;5;34m64\u001b[0m, \u001b[38;5;34m256\u001b[0m)   │        \u001b[38;5;34m512\u001b[0m │ add_1[\u001b[38;5;34m0\u001b[0m][\u001b[38;5;34m0\u001b[0m]       │\n",
       "│ (\u001b[38;5;33mLayerNormalizatio…\u001b[0m │                   │            │                   │\n",
       "├─────────────────────┼───────────────────┼────────────┼───────────────────┤\n",
       "│ sequential          │ (\u001b[38;5;45mNone\u001b[0m, \u001b[38;5;34m64\u001b[0m, \u001b[38;5;34m256\u001b[0m)   │    \u001b[38;5;34m262,912\u001b[0m │ layer_normalizat… │\n",
       "│ (\u001b[38;5;33mSequential\u001b[0m)        │                   │            │                   │\n",
       "├─────────────────────┼───────────────────┼────────────┼───────────────────┤\n",
       "│ add_2 (\u001b[38;5;33mAdd\u001b[0m)         │ (\u001b[38;5;45mNone\u001b[0m, \u001b[38;5;34m64\u001b[0m, \u001b[38;5;34m256\u001b[0m)   │          \u001b[38;5;34m0\u001b[0m │ layer_normalizat… │\n",
       "│                     │                   │            │ sequential[\u001b[38;5;34m0\u001b[0m][\u001b[38;5;34m0\u001b[0m]  │\n",
       "├─────────────────────┼───────────────────┼────────────┼───────────────────┤\n",
       "│ layer_normalizatio… │ (\u001b[38;5;45mNone\u001b[0m, \u001b[38;5;34m64\u001b[0m, \u001b[38;5;34m256\u001b[0m)   │        \u001b[38;5;34m512\u001b[0m │ add_2[\u001b[38;5;34m0\u001b[0m][\u001b[38;5;34m0\u001b[0m]       │\n",
       "│ (\u001b[38;5;33mLayerNormalizatio…\u001b[0m │                   │            │                   │\n",
       "├─────────────────────┼───────────────────┼────────────┼───────────────────┤\n",
       "│ multi_head_attenti… │ (\u001b[38;5;45mNone\u001b[0m, \u001b[38;5;34m64\u001b[0m, \u001b[38;5;34m256\u001b[0m)   │    \u001b[38;5;34m263,168\u001b[0m │ layer_normalizat… │\n",
       "│ (\u001b[38;5;33mMultiHeadAttentio…\u001b[0m │                   │            │ layer_normalizat… │\n",
       "├─────────────────────┼───────────────────┼────────────┼───────────────────┤\n",
       "│ add_3 (\u001b[38;5;33mAdd\u001b[0m)         │ (\u001b[38;5;45mNone\u001b[0m, \u001b[38;5;34m64\u001b[0m, \u001b[38;5;34m256\u001b[0m)   │          \u001b[38;5;34m0\u001b[0m │ layer_normalizat… │\n",
       "│                     │                   │            │ multi_head_atten… │\n",
       "├─────────────────────┼───────────────────┼────────────┼───────────────────┤\n",
       "│ layer_normalizatio… │ (\u001b[38;5;45mNone\u001b[0m, \u001b[38;5;34m64\u001b[0m, \u001b[38;5;34m256\u001b[0m)   │        \u001b[38;5;34m512\u001b[0m │ add_3[\u001b[38;5;34m0\u001b[0m][\u001b[38;5;34m0\u001b[0m]       │\n",
       "│ (\u001b[38;5;33mLayerNormalizatio…\u001b[0m │                   │            │                   │\n",
       "├─────────────────────┼───────────────────┼────────────┼───────────────────┤\n",
       "│ sequential_1        │ (\u001b[38;5;45mNone\u001b[0m, \u001b[38;5;34m64\u001b[0m, \u001b[38;5;34m256\u001b[0m)   │    \u001b[38;5;34m262,912\u001b[0m │ layer_normalizat… │\n",
       "│ (\u001b[38;5;33mSequential\u001b[0m)        │                   │            │                   │\n",
       "├─────────────────────┼───────────────────┼────────────┼───────────────────┤\n",
       "│ add_4 (\u001b[38;5;33mAdd\u001b[0m)         │ (\u001b[38;5;45mNone\u001b[0m, \u001b[38;5;34m64\u001b[0m, \u001b[38;5;34m256\u001b[0m)   │          \u001b[38;5;34m0\u001b[0m │ layer_normalizat… │\n",
       "│                     │                   │            │ sequential_1[\u001b[38;5;34m0\u001b[0m][\u001b[38;5;34m…\u001b[0m │\n",
       "├─────────────────────┼───────────────────┼────────────┼───────────────────┤\n",
       "│ layer_normalizatio… │ (\u001b[38;5;45mNone\u001b[0m, \u001b[38;5;34m64\u001b[0m, \u001b[38;5;34m256\u001b[0m)   │        \u001b[38;5;34m512\u001b[0m │ add_4[\u001b[38;5;34m0\u001b[0m][\u001b[38;5;34m0\u001b[0m]       │\n",
       "│ (\u001b[38;5;33mLayerNormalizatio…\u001b[0m │                   │            │                   │\n",
       "├─────────────────────┼───────────────────┼────────────┼───────────────────┤\n",
       "│ multi_head_attenti… │ (\u001b[38;5;45mNone\u001b[0m, \u001b[38;5;34m64\u001b[0m, \u001b[38;5;34m256\u001b[0m)   │    \u001b[38;5;34m263,168\u001b[0m │ layer_normalizat… │\n",
       "│ (\u001b[38;5;33mMultiHeadAttentio…\u001b[0m │                   │            │ layer_normalizat… │\n",
       "├─────────────────────┼───────────────────┼────────────┼───────────────────┤\n",
       "│ add_5 (\u001b[38;5;33mAdd\u001b[0m)         │ (\u001b[38;5;45mNone\u001b[0m, \u001b[38;5;34m64\u001b[0m, \u001b[38;5;34m256\u001b[0m)   │          \u001b[38;5;34m0\u001b[0m │ layer_normalizat… │\n",
       "│                     │                   │            │ multi_head_atten… │\n",
       "├─────────────────────┼───────────────────┼────────────┼───────────────────┤\n",
       "│ layer_normalizatio… │ (\u001b[38;5;45mNone\u001b[0m, \u001b[38;5;34m64\u001b[0m, \u001b[38;5;34m256\u001b[0m)   │        \u001b[38;5;34m512\u001b[0m │ add_5[\u001b[38;5;34m0\u001b[0m][\u001b[38;5;34m0\u001b[0m]       │\n",
       "│ (\u001b[38;5;33mLayerNormalizatio…\u001b[0m │                   │            │                   │\n",
       "├─────────────────────┼───────────────────┼────────────┼───────────────────┤\n",
       "│ sequential_2        │ (\u001b[38;5;45mNone\u001b[0m, \u001b[38;5;34m64\u001b[0m, \u001b[38;5;34m256\u001b[0m)   │    \u001b[38;5;34m262,912\u001b[0m │ layer_normalizat… │\n",
       "│ (\u001b[38;5;33mSequential\u001b[0m)        │                   │            │                   │\n",
       "├─────────────────────┼───────────────────┼────────────┼───────────────────┤\n",
       "│ add_6 (\u001b[38;5;33mAdd\u001b[0m)         │ (\u001b[38;5;45mNone\u001b[0m, \u001b[38;5;34m64\u001b[0m, \u001b[38;5;34m256\u001b[0m)   │          \u001b[38;5;34m0\u001b[0m │ layer_normalizat… │\n",
       "│                     │                   │            │ sequential_2[\u001b[38;5;34m0\u001b[0m][\u001b[38;5;34m…\u001b[0m │\n",
       "├─────────────────────┼───────────────────┼────────────┼───────────────────┤\n",
       "│ layer_normalizatio… │ (\u001b[38;5;45mNone\u001b[0m, \u001b[38;5;34m64\u001b[0m, \u001b[38;5;34m256\u001b[0m)   │        \u001b[38;5;34m512\u001b[0m │ add_6[\u001b[38;5;34m0\u001b[0m][\u001b[38;5;34m0\u001b[0m]       │\n",
       "│ (\u001b[38;5;33mLayerNormalizatio…\u001b[0m │                   │            │                   │\n",
       "├─────────────────────┼───────────────────┼────────────┼───────────────────┤\n",
       "│ dense_6 (\u001b[38;5;33mDense\u001b[0m)     │ (\u001b[38;5;45mNone\u001b[0m, \u001b[38;5;34m64\u001b[0m, \u001b[38;5;34m40000\u001b[0m) │ \u001b[38;5;34m10,280,000\u001b[0m │ layer_normalizat… │\n",
       "└─────────────────────┴───────────────────┴────────────┴───────────────────┘\n"
      ]
     },
     "metadata": {},
     "output_type": "display_data"
    },
    {
     "data": {
      "text/html": [
       "<pre style=\"white-space:pre;overflow-x:auto;line-height:normal;font-family:Menlo,'DejaVu Sans Mono',consolas,'Courier New',monospace\"><span style=\"font-weight: bold\"> Total params: </span><span style=\"color: #00af00; text-decoration-color: #00af00\">22,101,312</span> (84.31 MB)\n",
       "</pre>\n"
      ],
      "text/plain": [
       "\u001b[1m Total params: \u001b[0m\u001b[38;5;34m22,101,312\u001b[0m (84.31 MB)\n"
      ]
     },
     "metadata": {},
     "output_type": "display_data"
    },
    {
     "data": {
      "text/html": [
       "<pre style=\"white-space:pre;overflow-x:auto;line-height:normal;font-family:Menlo,'DejaVu Sans Mono',consolas,'Courier New',monospace\"><span style=\"font-weight: bold\"> Trainable params: </span><span style=\"color: #00af00; text-decoration-color: #00af00\">22,101,312</span> (84.31 MB)\n",
       "</pre>\n"
      ],
      "text/plain": [
       "\u001b[1m Trainable params: \u001b[0m\u001b[38;5;34m22,101,312\u001b[0m (84.31 MB)\n"
      ]
     },
     "metadata": {},
     "output_type": "display_data"
    },
    {
     "data": {
      "text/html": [
       "<pre style=\"white-space:pre;overflow-x:auto;line-height:normal;font-family:Menlo,'DejaVu Sans Mono',consolas,'Courier New',monospace\"><span style=\"font-weight: bold\"> Non-trainable params: </span><span style=\"color: #00af00; text-decoration-color: #00af00\">0</span> (0.00 B)\n",
       "</pre>\n"
      ],
      "text/plain": [
       "\u001b[1m Non-trainable params: \u001b[0m\u001b[38;5;34m0\u001b[0m (0.00 B)\n"
      ]
     },
     "metadata": {},
     "output_type": "display_data"
    }
   ],
   "source": [
    "# Cell 5: Define the model\n",
    "def get_positional_encoding(max_len, d_model):\n",
    "    \"\"\"Create sinusoidal positional encoding.\"\"\"\n",
    "    positions = np.arange(max_len)[:, np.newaxis]\n",
    "    angles = np.arange(d_model)[np.newaxis, :] / d_model\n",
    "    angles = 1 / (10000**angles)\n",
    "\n",
    "    pos_encoding = positions * angles\n",
    "    pos_encoding[:, 0::2] = np.sin(pos_encoding[:, 0::2])\n",
    "    pos_encoding[:, 1::2] = np.cos(pos_encoding[:, 1::2])\n",
    "\n",
    "    return pos_encoding\n",
    "\n",
    "# Define model parameters\n",
    "embed_dim = 256\n",
    "num_heads = 4\n",
    "ff_dim = 512\n",
    "num_layers = 3\n",
    "\n",
    "# Create the model\n",
    "inputs = keras.Input(shape=(seq_length,))\n",
    "embedding_layer = keras.layers.Embedding(sp.get_piece_size(), embed_dim)(inputs)\n",
    "\n",
    "# Add positional encoding\n",
    "pos_encoding = get_positional_encoding(seq_length, embed_dim)\n",
    "x = embedding_layer + pos_encoding\n",
    "\n",
    "# Helper function to create causal attention mask\n",
    "def create_causal_mask(size):\n",
    "    \"\"\"Create a causal attention mask to prevent looking at future tokens.\"\"\"\n",
    "    mask = 1 - np.triu(np.ones((size, size)), k=1)\n",
    "    return mask  # Lower triangular matrix\n",
    "\n",
    "# Transformer blocks\n",
    "for _ in range(num_layers):\n",
    "    # Multi-head attention with causal mask\n",
    "    # Manually create causal mask since use_causal_mask parameter isn't available\n",
    "    causal_mask = create_causal_mask(seq_length)\n",
    "\n",
    "    # Apply attention with manual causal mask\n",
    "    attention_output = keras.layers.MultiHeadAttention(\n",
    "        num_heads=num_heads,\n",
    "        key_dim=embed_dim // num_heads\n",
    "    )(x, x, attention_mask=causal_mask)\n",
    "\n",
    "    # Add & Norm\n",
    "    x = keras.layers.LayerNormalization(epsilon=1e-6)(x + attention_output)\n",
    "\n",
    "    # Feed-forward network\n",
    "    ffn = keras.Sequential([\n",
    "        keras.layers.Dense(ff_dim, activation=\"relu\"),\n",
    "        keras.layers.Dense(embed_dim),\n",
    "        keras.layers.Dropout(0.1)\n",
    "    ])\n",
    "    ffn_output = ffn(x)\n",
    "\n",
    "    # Add & Norm\n",
    "    x = keras.layers.LayerNormalization(epsilon=1e-6)(x + ffn_output)\n",
    "\n",
    "# Final output layer\n",
    "outputs = keras.layers.Dense(sp.get_piece_size())(x)\n",
    "\n",
    "# Create model\n",
    "model = keras.Model(inputs=inputs, outputs=outputs)\n",
    "\n",
    "# Compile model\n",
    "model.compile(\n",
    "    optimizer=keras.optimizers.Adam(learning_rate=3e-4),\n",
    "    loss=keras.losses.SparseCategoricalCrossentropy(from_logits=True),\n",
    "    metrics=['accuracy']\n",
    ")\n",
    "\n",
    "model.summary()"
   ]
  },
  {
   "cell_type": "code",
   "execution_count": 29,
   "id": "a03c5920",
   "metadata": {},
   "outputs": [
    {
     "name": "stdout",
     "output_type": "stream",
     "text": [
      "Epoch 1/20\n"
     ]
    },
    {
     "name": "stderr",
     "output_type": "stream",
     "text": [
      "2025-04-20 15:29:37.621878: W tensorflow/compiler/tf2xla/kernels/assert_op.cc:39] Ignoring Assert operator compile_loss/sparse_categorical_crossentropy/SparseSoftmaxCrossEntropyWithLogits/assert_equal_1/Assert/Assert\n",
      "2025-04-20 15:29:45.218335: I external/local_xla/xla/stream_executor/cuda/subprocess_compilation.cc:346] ptxas warning : Registers are spilled to local memory in function 'input_add_multiply_reduce_fusion_3', 64 bytes spill stores, 64 bytes spill loads\n",
      "\n"
     ]
    },
    {
     "name": "stdout",
     "output_type": "stream",
     "text": [
      "\u001b[1m2341/2342\u001b[0m \u001b[32m━━━━━━━━━━━━━━━━━━━\u001b[0m\u001b[37m━\u001b[0m \u001b[1m0s\u001b[0m 59ms/step - accuracy: 0.6342 - loss: 2.0669"
     ]
    },
    {
     "name": "stderr",
     "output_type": "stream",
     "text": [
      "2025-04-20 15:32:03.730468: W tensorflow/compiler/tf2xla/kernels/assert_op.cc:39] Ignoring Assert operator compile_loss/sparse_categorical_crossentropy/SparseSoftmaxCrossEntropyWithLogits/assert_equal_1/Assert/Assert\n"
     ]
    },
    {
     "name": "stdout",
     "output_type": "stream",
     "text": [
      "\u001b[1m2342/2342\u001b[0m \u001b[32m━━━━━━━━━━━━━━━━━━━━\u001b[0m\u001b[37m\u001b[0m \u001b[1m0s\u001b[0m 62ms/step - accuracy: 0.6343 - loss: 2.0666"
     ]
    },
    {
     "name": "stderr",
     "output_type": "stream",
     "text": [
      "2025-04-20 15:32:09.899970: I external/local_xla/xla/stream_executor/cuda/subprocess_compilation.cc:346] ptxas warning : Registers are spilled to local memory in function 'input_add_multiply_reduce_fusion_3', 64 bytes spill stores, 64 bytes spill loads\n",
      "\n",
      "2025-04-20 15:32:10.694287: W tensorflow/compiler/tf2xla/kernels/assert_op.cc:39] Ignoring Assert operator compile_loss/sparse_categorical_crossentropy/SparseSoftmaxCrossEntropyWithLogits/assert_equal_1/Assert/Assert\n",
      "2025-04-20 15:32:17.553231: W tensorflow/compiler/tf2xla/kernels/assert_op.cc:39] Ignoring Assert operator compile_loss/sparse_categorical_crossentropy/SparseSoftmaxCrossEntropyWithLogits/assert_equal_1/Assert/Assert\n"
     ]
    },
    {
     "name": "stdout",
     "output_type": "stream",
     "text": [
      "\u001b[1m2342/2342\u001b[0m \u001b[32m━━━━━━━━━━━━━━━━━━━━\u001b[0m\u001b[37m\u001b[0m \u001b[1m163s\u001b[0m 66ms/step - accuracy: 0.6343 - loss: 2.0662 - val_accuracy: 0.9573 - val_loss: 0.2409 - learning_rate: 3.0000e-04\n",
      "Epoch 2/20\n",
      "\u001b[1m2342/2342\u001b[0m \u001b[32m━━━━━━━━━━━━━━━━━━━━\u001b[0m\u001b[37m\u001b[0m \u001b[1m163s\u001b[0m 70ms/step - accuracy: 0.9625 - loss: 0.2127 - val_accuracy: 0.9709 - val_loss: 0.1485 - learning_rate: 3.0000e-04\n",
      "Epoch 3/20\n",
      "\u001b[1m1351/2342\u001b[0m \u001b[32m━━━━━━━━━━━\u001b[0m\u001b[37m━━━━━━━━━\u001b[0m \u001b[1m59s\u001b[0m 60ms/step - accuracy: 0.9731 - loss: 0.1363"
     ]
    },
    {
     "ename": "KeyboardInterrupt",
     "evalue": "",
     "output_type": "error",
     "traceback": [
      "\u001b[31m---------------------------------------------------------------------------\u001b[39m",
      "\u001b[31mKeyboardInterrupt\u001b[39m                         Traceback (most recent call last)",
      "\u001b[36mCell\u001b[39m\u001b[36m \u001b[39m\u001b[32mIn[13]\u001b[39m\u001b[32m, line 5\u001b[39m\n\u001b[32m      2\u001b[39m batch_size = \u001b[32m32\u001b[39m\n\u001b[32m      3\u001b[39m epochs = \u001b[32m20\u001b[39m \n\u001b[32m----> \u001b[39m\u001b[32m5\u001b[39m history = model.fit(\n\u001b[32m      6\u001b[39m     train_inputs, train_targets,\n\u001b[32m      7\u001b[39m     validation_data=(val_inputs, val_targets),\n\u001b[32m      8\u001b[39m     batch_size=batch_size,\n\u001b[32m      9\u001b[39m     epochs=epochs,\n\u001b[32m     10\u001b[39m     callbacks=[\n\u001b[32m     11\u001b[39m         keras.callbacks.EarlyStopping(patience=\u001b[32m3\u001b[39m, restore_best_weights=\u001b[38;5;28;01mTrue\u001b[39;00m),\n\u001b[32m     12\u001b[39m         keras.callbacks.ReduceLROnPlateau(factor=\u001b[32m0.5\u001b[39m, patience=\u001b[32m1\u001b[39m),\n\u001b[32m     13\u001b[39m         keras.callbacks.ModelCheckpoint(\u001b[33m'\u001b[39m\u001b[33mkalevala_best_model.keras\u001b[39m\u001b[33m'\u001b[39m, save_best_only=\u001b[38;5;28;01mTrue\u001b[39;00m)\n\u001b[32m     14\u001b[39m     ]\n\u001b[32m     15\u001b[39m )\n\u001b[32m     17\u001b[39m \u001b[38;5;66;03m# Cell 6.5: Save the model\u001b[39;00m\n\u001b[32m     18\u001b[39m model.save(\u001b[33m'\u001b[39m\u001b[33mkalevala_model.keras\u001b[39m\u001b[33m'\u001b[39m)\n",
      "\u001b[36mFile \u001b[39m\u001b[32m~/anaconda3/envs/keras/lib/python3.12/site-packages/keras/src/utils/traceback_utils.py:117\u001b[39m, in \u001b[36mfilter_traceback.<locals>.error_handler\u001b[39m\u001b[34m(*args, **kwargs)\u001b[39m\n\u001b[32m    115\u001b[39m filtered_tb = \u001b[38;5;28;01mNone\u001b[39;00m\n\u001b[32m    116\u001b[39m \u001b[38;5;28;01mtry\u001b[39;00m:\n\u001b[32m--> \u001b[39m\u001b[32m117\u001b[39m     \u001b[38;5;28;01mreturn\u001b[39;00m fn(*args, **kwargs)\n\u001b[32m    118\u001b[39m \u001b[38;5;28;01mexcept\u001b[39;00m \u001b[38;5;167;01mException\u001b[39;00m \u001b[38;5;28;01mas\u001b[39;00m e:\n\u001b[32m    119\u001b[39m     filtered_tb = _process_traceback_frames(e.__traceback__)\n",
      "\u001b[36mFile \u001b[39m\u001b[32m~/anaconda3/envs/keras/lib/python3.12/site-packages/keras/src/backend/tensorflow/trainer.py:371\u001b[39m, in \u001b[36mTensorFlowTrainer.fit\u001b[39m\u001b[34m(self, x, y, batch_size, epochs, verbose, callbacks, validation_split, validation_data, shuffle, class_weight, sample_weight, initial_epoch, steps_per_epoch, validation_steps, validation_batch_size, validation_freq)\u001b[39m\n\u001b[32m    369\u001b[39m \u001b[38;5;28;01mfor\u001b[39;00m step, iterator \u001b[38;5;129;01min\u001b[39;00m epoch_iterator:\n\u001b[32m    370\u001b[39m     callbacks.on_train_batch_begin(step)\n\u001b[32m--> \u001b[39m\u001b[32m371\u001b[39m     logs = \u001b[38;5;28mself\u001b[39m.train_function(iterator)\n\u001b[32m    372\u001b[39m     callbacks.on_train_batch_end(step, logs)\n\u001b[32m    373\u001b[39m     \u001b[38;5;28;01mif\u001b[39;00m \u001b[38;5;28mself\u001b[39m.stop_training:\n",
      "\u001b[36mFile \u001b[39m\u001b[32m~/anaconda3/envs/keras/lib/python3.12/site-packages/keras/src/backend/tensorflow/trainer.py:220\u001b[39m, in \u001b[36mTensorFlowTrainer._make_function.<locals>.function\u001b[39m\u001b[34m(iterator)\u001b[39m\n\u001b[32m    216\u001b[39m \u001b[38;5;28;01mif\u001b[39;00m \u001b[38;5;28misinstance\u001b[39m(\n\u001b[32m    217\u001b[39m     iterator, (tf.data.Iterator, tf.distribute.DistributedIterator)\n\u001b[32m    218\u001b[39m ):\n\u001b[32m    219\u001b[39m     opt_outputs = multi_step_on_iterator(iterator)\n\u001b[32m--> \u001b[39m\u001b[32m220\u001b[39m     \u001b[38;5;28;01mif\u001b[39;00m \u001b[38;5;129;01mnot\u001b[39;00m opt_outputs.has_value():\n\u001b[32m    221\u001b[39m         \u001b[38;5;28;01mraise\u001b[39;00m \u001b[38;5;167;01mStopIteration\u001b[39;00m\n\u001b[32m    222\u001b[39m     \u001b[38;5;28;01mreturn\u001b[39;00m opt_outputs.get_value()\n",
      "\u001b[36mFile \u001b[39m\u001b[32m~/anaconda3/envs/keras/lib/python3.12/site-packages/tensorflow/python/data/ops/optional_ops.py:176\u001b[39m, in \u001b[36m_OptionalImpl.has_value\u001b[39m\u001b[34m(self, name)\u001b[39m\n\u001b[32m    174\u001b[39m \u001b[38;5;28;01mdef\u001b[39;00m\u001b[38;5;250m \u001b[39m\u001b[34mhas_value\u001b[39m(\u001b[38;5;28mself\u001b[39m, name=\u001b[38;5;28;01mNone\u001b[39;00m):\n\u001b[32m    175\u001b[39m   \u001b[38;5;28;01mwith\u001b[39;00m ops.colocate_with(\u001b[38;5;28mself\u001b[39m._variant_tensor):\n\u001b[32m--> \u001b[39m\u001b[32m176\u001b[39m     \u001b[38;5;28;01mreturn\u001b[39;00m gen_optional_ops.optional_has_value(\n\u001b[32m    177\u001b[39m         \u001b[38;5;28mself\u001b[39m._variant_tensor, name=name\n\u001b[32m    178\u001b[39m     )\n",
      "\u001b[36mFile \u001b[39m\u001b[32m~/anaconda3/envs/keras/lib/python3.12/site-packages/tensorflow/python/ops/gen_optional_ops.py:172\u001b[39m, in \u001b[36moptional_has_value\u001b[39m\u001b[34m(optional, name)\u001b[39m\n\u001b[32m    170\u001b[39m \u001b[38;5;28;01mif\u001b[39;00m tld.is_eager:\n\u001b[32m    171\u001b[39m   \u001b[38;5;28;01mtry\u001b[39;00m:\n\u001b[32m--> \u001b[39m\u001b[32m172\u001b[39m     _result = pywrap_tfe.TFE_Py_FastPathExecute(\n\u001b[32m    173\u001b[39m       _ctx, \u001b[33m\"\u001b[39m\u001b[33mOptionalHasValue\u001b[39m\u001b[33m\"\u001b[39m, name, optional)\n\u001b[32m    174\u001b[39m     \u001b[38;5;28;01mreturn\u001b[39;00m _result\n\u001b[32m    175\u001b[39m   \u001b[38;5;28;01mexcept\u001b[39;00m _core._NotOkStatusException \u001b[38;5;28;01mas\u001b[39;00m e:\n",
      "\u001b[31mKeyboardInterrupt\u001b[39m: "
     ]
    }
   ],
   "source": [
    "# Cell 6: Train the model\n",
    "batch_size = 32\n",
    "epochs = 20 \n",
    "\n",
    "history = model.fit(\n",
    "    train_inputs, train_targets,\n",
    "    validation_data=(val_inputs, val_targets),\n",
    "    batch_size=batch_size,\n",
    "    epochs=epochs,\n",
    "    callbacks=[\n",
    "        keras.callbacks.EarlyStopping(patience=3, restore_best_weights=True),\n",
    "        keras.callbacks.ReduceLROnPlateau(factor=0.5, patience=1),\n",
    "        keras.callbacks.ModelCheckpoint('LotR_trilogy_best_model.keras', save_best_only=True)\n",
    "    ]\n",
    ")\n",
    "\n",
    "# Cell 6.5: Save the model\n",
    "model.save('LotR_trilogy_model.keras')\n",
    "print(\"Model saved as 'LotR_trilogy_model.keras'\")"
   ]
  },
  {
   "cell_type": "code",
   "execution_count": 30,
   "id": "dd148df2",
   "metadata": {},
   "outputs": [
    {
     "data": {
      "image/png": "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",
      "text/plain": [
       "<Figure size 1200x500 with 2 Axes>"
      ]
     },
     "metadata": {},
     "output_type": "display_data"
    }
   ],
   "source": [
    "# Cell 7: Plot training metrics\n",
    "import matplotlib.pyplot as plt\n",
    "\n",
    "plt.figure(figsize=(12, 5))\n",
    "plt.subplot(1, 2, 1)\n",
    "plt.plot(history.history['loss'], label='Training Loss')\n",
    "plt.plot(history.history['val_loss'], label='Validation Loss')\n",
    "plt.title('Model Loss')\n",
    "plt.xlabel('Epoch')\n",
    "plt.ylabel('Loss')\n",
    "plt.grid()\n",
    "plt.legend()\n",
    "\n",
    "plt.subplot(1, 2, 2)\n",
    "plt.plot(history.history['accuracy'], label='Training Accuracy')\n",
    "plt.plot(history.history['val_accuracy'], label='Validation Accuracy')\n",
    "plt.title('Model Accuracy')\n",
    "plt.xlabel('Epoch')\n",
    "plt.ylabel('Accuracy')\n",
    "plt.grid()\n",
    "plt.legend()\n",
    "\n",
    "plt.tight_layout()\n",
    "plt.show()"
   ]
  }
 ],
 "metadata": {
  "kernelspec": {
   "display_name": "keras",
   "language": "python",
   "name": "python3"
  },
  "language_info": {
   "codemirror_mode": {
    "name": "ipython",
    "version": 3
   },
   "file_extension": ".py",
   "mimetype": "text/x-python",
   "name": "python",
   "nbconvert_exporter": "python",
   "pygments_lexer": "ipython3",
   "version": "3.12.9"
   "codemirror_mode": {
    "name": "ipython",
    "version": 3
   },
   "file_extension": ".py",
   "mimetype": "text/x-python",
   "name": "python",
   "nbconvert_exporter": "python",
   "pygments_lexer": "ipython3",
   "version": "3.12.9"
  }
 },
 "nbformat": 4,
 "nbformat_minor": 5
}
