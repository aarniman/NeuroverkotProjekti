{
 "cells": [
  {
   "cell_type": "markdown",
   "id": "7207db83",
   "metadata": {},
   "source": [
    "# PUHEKOMENNOT TUNNISTAMINEN ÄÄNITTEISTÄ\n",
    "Tehtävä: Rakenna malli, joka tunnistaa yksinkertaisia puhuttuja komentoja\n",
    "\n",
    "Aineisto: [Speech Commands Dataset](https://www.tensorflow.org/datasets/catalog/speech_commands)\n",
    "\n",
    "Aineisto on ladattu ja purettu testi/treeni/validaatio setteihin aineiston mukana tulevien readme-tiedostojen mukaan (TODO: SELITÄ MITÄ NE ON)\n",
    "\n",
    "Twenty core command words were recorded, with most speakers saying each\n",
    "of them five times. The core words are \"Yes\", \"No\", \"Up\", \"Down\", \"Left\",\n",
    "\"Right\", \"On\", \"Off\", \"Stop\", \"Go\", \"Zero\", \"One\", \"Two\", \"Three\", \"Four\",\n",
    "\"Five\", \"Six\", \"Seven\", \"Eight\", and \"Nine\".\n",
    "\n",
    "To help distinguish unrecognized\n",
    "words, there are also ten auxiliary words, which most speakers only said once.\n",
    "These include \"Bed\", \"Bird\", \"Cat\", \"Dog\", \"Happy\", \"House\", \"Marvin\", \"Sheila\",\n",
    "\"Tree\", and \"Wow\"."
   ]
  },
  {
   "cell_type": "markdown",
   "id": "ef22ddae",
   "metadata": {},
   "source": [
    "## Datasetin muodostaminen\n",
    "Käytetään "
   ]
  },
  {
   "cell_type": "code",
   "execution_count": 1,
   "id": "0901e075",
   "metadata": {},
   "outputs": [
    {
     "name": "stdout",
     "output_type": "stream",
     "text": [
      "Found 61927 files belonging to 21 classes.\n",
      "Found 7346 files belonging to 21 classes.\n",
      "Found 8181 files belonging to 21 classes.\n"
     ]
    }
   ],
   "source": [
    "import tensorflow as tf\n",
    "import keras\n",
    "import keras.utils\n",
    "import numpy as np\n",
    "import pathlib\n",
    "\n",
    "DATASET_PATH = 'split_dataset'\n",
    "data_dir = pathlib.Path(DATASET_PATH)\n",
    "\n",
    "# Load the dataset\n",
    "train_ds = keras.utils.audio_dataset_from_directory(\n",
    "    str(data_dir) + '/train',\n",
    "    batch_size=32,\n",
    "    shuffle=True,\n",
    "    seed=42,\n",
    "    label_mode='categorical',\n",
    "    labels=\"inferred\",\n",
    "    output_sequence_length=16000,\n",
    ")\n",
    "val_ds = keras.utils.audio_dataset_from_directory(\n",
    "    str(data_dir) + '/validation',\n",
    "    batch_size=32,\n",
    "    shuffle=True,\n",
    "    seed=42,\n",
    "    label_mode='categorical',\n",
    "    labels=\"inferred\",\n",
    "    output_sequence_length=16000,\n",
    ")\n",
    "test_ds = keras.utils.audio_dataset_from_directory(\n",
    "    str(data_dir) + '/test',\n",
    "    batch_size=32,\n",
    "    shuffle=True,\n",
    "    seed=42,\n",
    "    label_mode='categorical',\n",
    "    labels=\"inferred\",\n",
    "    output_sequence_length=16000,\n",
    ")\n"
   ]
  },
  {
   "cell_type": "code",
   "execution_count": 3,
   "id": "d5777860",
   "metadata": {},
   "outputs": [
    {
     "name": "stdout",
     "output_type": "stream",
     "text": [
      "Classes in training set: ['down', 'eight', 'five', 'four', 'go', 'left', 'nine', 'no', 'off', 'on', 'one', 'right', 'seven', 'six', 'stop', 'three', 'two', 'unknown', 'up', 'yes', 'zero']\n"
     ]
    }
   ],
   "source": [
    "print('Classes in training set:', train_ds.class_names)"
   ]
  },
  {
   "cell_type": "markdown",
   "id": "132bc2ed",
   "metadata": {},
   "source": [
    "## Treenaus\n",
    "- Tehdään dataseteista spektrogramma muodot.\n",
    "- "
   ]
  },
  {
   "cell_type": "markdown",
   "id": "85f03c25",
   "metadata": {},
   "source": [
    "##"
   ]
  }
 ],
 "metadata": {
  "kernelspec": {
   "display_name": "NEURO",
   "language": "python",
   "name": "python3"
  },
  "language_info": {
   "codemirror_mode": {
    "name": "ipython",
    "version": 3
   },
   "file_extension": ".py",
   "mimetype": "text/x-python",
   "name": "python",
   "nbconvert_exporter": "python",
   "pygments_lexer": "ipython3",
   "version": "3.12.9"
  }
 },
 "nbformat": 4,
 "nbformat_minor": 5
}
